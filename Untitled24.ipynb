{
  "nbformat": 4,
  "nbformat_minor": 0,
  "metadata": {
    "colab": {
      "provenance": []
    },
    "kernelspec": {
      "name": "python3",
      "display_name": "Python 3"
    },
    "language_info": {
      "name": "python"
    }
  },
  "cells": [
    {
      "cell_type": "code",
      "execution_count": 5,
      "metadata": {
        "colab": {
          "base_uri": "https://localhost:8080/"
        },
        "id": "se50-AUIRPH5",
        "outputId": "442a394e-e4ba-4c25-ec11-14bd9c0e4cad"
      },
      "outputs": [
        {
          "output_type": "stream",
          "name": "stdout",
          "text": [
            "Ranked Resumes based on Job Description Match:\n",
            "\n",
            "1. resume_1.pdf - Similarity Score: 0.74\n",
            "2. resume_2.pdf - Similarity Score: 0.05\n",
            "\n",
            "Resume Ranking Model Accuracy: 0.00\n"
          ]
        }
      ],
      "source": [
        "import pandas as pd\n",
        "import numpy as np\n",
        "import re\n",
        "import docx2txt\n",
        "import PyPDF2\n",
        "from sklearn.feature_extraction.text import TfidfVectorizer\n",
        "from sklearn.metrics.pairwise import cosine_similarity\n",
        "from sklearn.ensemble import RandomForestClassifier\n",
        "from sklearn.model_selection import train_test_split\n",
        "from sklearn.preprocessing import LabelEncoder\n",
        "import os\n",
        "\n",
        "# Function to extract text from resumes\n",
        "def extract_text(file_path):\n",
        "    if file_path.endswith('.pdf'):\n",
        "        text = \"\"\n",
        "        with open(file_path, \"rb\") as f:\n",
        "            reader = PyPDF2.PdfReader(f)\n",
        "            for page in reader.pages:\n",
        "                text += page.extract_text() + \" \"\n",
        "        return text\n",
        "    elif file_path.endswith('.docx'):\n",
        "        return docx2txt.process(file_path)\n",
        "    else:\n",
        "        return \"\"\n",
        "\n",
        "# Load resumes from a folder\n",
        "resume_folder = \"/content/\"  # Change to your folder\n",
        "resumes = []\n",
        "names = []\n",
        "for file in os.listdir(resume_folder):\n",
        "    if file.endswith(\".pdf\") or file.endswith(\".docx\"):\n",
        "        resumes.append(extract_text(os.path.join(resume_folder, file)))\n",
        "        names.append(file)\n",
        "\n",
        "# Load job description\n",
        "job_description = \"We are looking for a Data Scientist with experience in Python, Machine Learning, and NLP.\"\n",
        "\n",
        "# NLP Processing\n",
        "vectorizer = TfidfVectorizer(stop_words='english')\n",
        "resume_tfidf = vectorizer.fit_transform(resumes)\n",
        "job_tfidf = vectorizer.transform([job_description])\n",
        "\n",
        "# Calculate similarity scores\n",
        "similarity_scores = cosine_similarity(job_tfidf, resume_tfidf)[0]\n",
        "ranked_resumes = sorted(zip(names, similarity_scores), key=lambda x: x[1], reverse=True)\n",
        "\n",
        "# Display ranked resumes\n",
        "print(\"Ranked Resumes based on Job Description Match:\\n\")\n",
        "for rank, (name, score) in enumerate(ranked_resumes, 1):\n",
        "    print(f\"{rank}. {name} - Similarity Score: {score:.2f}\")\n",
        "\n",
        "# Optional: Train a Machine Learning model (Example: RandomForest)\n",
        "labels = np.array([1 if score > 0.5 else 0 for _, score in ranked_resumes])  # Labeling for training\n",
        "X_train, X_test, y_train, y_test = train_test_split(resume_tfidf.toarray(), labels, test_size=0.2, random_state=42)\n",
        "model = RandomForestClassifier()\n",
        "model.fit(X_train, y_train)\n",
        "accuracy = model.score(X_test, y_test)\n",
        "print(f\"\\nResume Ranking Model Accuracy: {accuracy:.2f}\")\n"
      ]
    },
    {
      "cell_type": "code",
      "source": [
        "!pip install PyPDF2"
      ],
      "metadata": {
        "colab": {
          "base_uri": "https://localhost:8080/"
        },
        "id": "70phTS68RrNz",
        "outputId": "d21874c6-9140-48d1-f0c2-b057c987dbf3"
      },
      "execution_count": 4,
      "outputs": [
        {
          "output_type": "stream",
          "name": "stdout",
          "text": [
            "Collecting PyPDF2\n",
            "  Downloading pypdf2-3.0.1-py3-none-any.whl.metadata (6.8 kB)\n",
            "Downloading pypdf2-3.0.1-py3-none-any.whl (232 kB)\n",
            "\u001b[2K   \u001b[90m━━━━━━━━━━━━━━━━━━━━━━━━━━━━━━━━━━━━━━━━\u001b[0m \u001b[32m232.6/232.6 kB\u001b[0m \u001b[31m4.9 MB/s\u001b[0m eta \u001b[36m0:00:00\u001b[0m\n",
            "\u001b[?25hInstalling collected packages: PyPDF2\n",
            "Successfully installed PyPDF2-3.0.1\n"
          ]
        }
      ]
    }
  ]
}